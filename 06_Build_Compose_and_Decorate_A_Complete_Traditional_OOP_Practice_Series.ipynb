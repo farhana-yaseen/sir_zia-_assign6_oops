{
  "nbformat": 4,
  "nbformat_minor": 0,
  "metadata": {
    "colab": {
      "provenance": [],
      "authorship_tag": "ABX9TyNZOWtq0ytf6TPYfek5n7gD",
      "include_colab_link": true
    },
    "kernelspec": {
      "name": "python3",
      "display_name": "Python 3"
    },
    "language_info": {
      "name": "python"
    }
  },
  "cells": [
    {
      "cell_type": "markdown",
      "metadata": {
        "id": "view-in-github",
        "colab_type": "text"
      },
      "source": [
        "<a href=\"https://colab.research.google.com/github/farhana-yaseen/sir_zia-_assign6_oops/blob/main/06_Build_Compose_and_Decorate_A_Complete_Traditional_OOP_Practice_Series.ipynb\" target=\"_parent\"><img src=\"https://colab.research.google.com/assets/colab-badge.svg\" alt=\"Open In Colab\"/></a>"
      ]
    },
    {
      "cell_type": "markdown",
      "source": [
        "**1. Using self**"
      ],
      "metadata": {
        "id": "FTDV2M-EirlB"
      }
    },
    {
      "cell_type": "code",
      "execution_count": null,
      "metadata": {
        "id": "Cg1pmPmyiiYu"
      },
      "outputs": [],
      "source": [
        "# Create a class Student with attributes name and marks. Use the self keyword to initialize these values via a constructor. Add a method display() that prints student details.\n",
        "\n",
        "class Student:\n",
        "  # constructor method named __init__. This method is automatically called when a new object is created from the class.\n",
        "  # self is a reference to the current object (like this in Java or C++).It lets you store and access data that belongs to a specific object.\n",
        "\n",
        "    def __init__(self, name, marks):\n",
        "        self.name = name\n",
        "        self.marks = marks\n",
        "\n",
        "    def display(self):\n",
        "        print(f\"Student Name: {self.name} \\t Student Marks: {self.marks}\")\n",
        "\n",
        "student = Student(\"Ali\", 90)\n",
        "student.display()\n",
        "\n"
      ]
    },
    {
      "cell_type": "markdown",
      "source": [
        "**Using cls**"
      ],
      "metadata": {
        "id": "66nFTJUElR8j"
      }
    },
    {
      "cell_type": "code",
      "source": [
        "# Create a class Counter that keeps track of how many objects have been created. Use a class variable and a class method with cls to manage and display the count.\n",
        "# Class Method (@classmethod) Receives the class (cls) as the first argument, not the instance.\n",
        "\n",
        "class Counter:\n",
        "  # Class variable to keep track of number of objects\n",
        "    count = 0\n",
        "    def __init__(self):\n",
        "        # Increment the class variable whenever a new object is created\n",
        "        Counter.count += 1\n",
        "\n",
        "\n",
        "    @classmethod\n",
        "    def display_count(cls):  # cls means class\n",
        "      # cls.count means use class variable count\n",
        "        print(f\"Number of objects created: {cls.count}\")\n",
        "\n",
        "counter1 = Counter()\n",
        "counter2 = Counter()\n",
        "counter3 = Counter()\n",
        "Counter.display_count() # Output: Number of Counter objects created: 3\n",
        "\n"
      ],
      "metadata": {
        "id": "zD2VRPxzlZv7"
      },
      "execution_count": null,
      "outputs": []
    },
    {
      "cell_type": "markdown",
      "source": [
        "**3. Public Variables and Methods**"
      ],
      "metadata": {
        "id": "s-Ix0Ph5C2EC"
      }
    },
    {
      "cell_type": "code",
      "source": [
        "# Create a class Car with a public variable brand and a public method start(). Instantiate the class and access both from outside the class.\n",
        "\n",
        "class Car:\n",
        "\n",
        "  def __init__(self, car_brand):\n",
        "    self.brand = car_brand\n",
        "\n",
        "  def start(self):\n",
        "    print(f\"The {self.brand} is started\")\n",
        "\n",
        "# Instantiate the Car class\n",
        "my_car = Car(\"Toyota\")\n",
        "\n",
        "# Access the public variable\n",
        "print(\"Brand of the car:\", my_car.brand)\n",
        "\n",
        "# Call the public method\n",
        "my_car.start()\n",
        "\n"
      ],
      "metadata": {
        "id": "oaYipYb6C5Gd"
      },
      "execution_count": null,
      "outputs": []
    },
    {
      "cell_type": "markdown",
      "source": [
        "**4. Class Variables and Class Methods**\n"
      ],
      "metadata": {
        "id": "5I-7sK3_GDyU"
      }
    },
    {
      "cell_type": "code",
      "source": [
        "# Create a class Bank with a class variable bank_name. Add a class method change_bank_name(cls, name) that allows changing the bank name. Show that it affects all instances.\n",
        "\n",
        "class Bank:\n",
        "  bank_name = \"Bank of America\"\n",
        "\n",
        "  @classmethod\n",
        "  def change_bank_name(cls, name):\n",
        "    cls.bank_name = name\n",
        "\n",
        "bank = Bank()\n",
        "bank.change_bank_name(\"Bank of Pakistan\")\n",
        "print(bank.bank_name)\n",
        "\n"
      ],
      "metadata": {
        "id": "s5edu_8MGJ1U"
      },
      "execution_count": null,
      "outputs": []
    },
    {
      "cell_type": "markdown",
      "source": [
        "**5. Static Variables and Static Methods**"
      ],
      "metadata": {
        "id": "cKoUVV8jJJhk"
      }
    },
    {
      "cell_type": "code",
      "source": [
        "# Create a class MathUtils with a static method add(a, b) that returns the sum. No class or instance variables should be used.\n",
        "# Static Method (@staticmethod) Does not receive the class (cls) or instance (self) as the first argument.\n",
        "\n",
        "\n",
        "class MathUtils:\n",
        "  @staticmethod\n",
        "  def add(a, b):\n",
        "    return a + b\n",
        "\n",
        "result = MathUtils.add(5, 3)\n",
        "print(result)\n",
        "\n"
      ],
      "metadata": {
        "id": "tdO91WtCJNhW"
      },
      "execution_count": null,
      "outputs": []
    },
    {
      "cell_type": "markdown",
      "source": [
        "**6. Constructors and Destructors**"
      ],
      "metadata": {
        "id": "eDO2T6iaL0Rd"
      }
    },
    {
      "cell_type": "code",
      "source": [
        "# Create a class Logger that prints a message when an object is created (constructor) and another message when it is destroyed (destructor).\n",
        "\n",
        "class Logger:\n",
        "  # method of constructor\n",
        "  def __init__(self):\n",
        "    print(\"Logger object created\")\n",
        "\n",
        "  # method of destructor\n",
        "  def __del__(self):\n",
        "    print(\"Logger object destroyed\")\n",
        "\n",
        "logger = Logger()\n",
        "del logger\n",
        "\n"
      ],
      "metadata": {
        "id": "_T0NixBmL5Jv"
      },
      "execution_count": null,
      "outputs": []
    },
    {
      "cell_type": "markdown",
      "source": [
        "**7. Access Modifiers: Public, Private, and Protected**"
      ],
      "metadata": {
        "id": "evC3YdGXNF0K"
      }
    },
    {
      "cell_type": "code",
      "source": [
        "# Create a class Employee with:\n",
        "# a public variable name,\n",
        "# a protected variable _salary, and\n",
        "# a private variable __ssn.\n",
        "# Try accessing all three variables from an object of the class and document what happens.\n",
        "\n",
        "class Employee:\n",
        "\n",
        "  def __init__(self, name, salary, ssn):\n",
        "    self.name = name\n",
        "    self._salary = salary\n",
        "    self.__ssn = ssn\n",
        "\n",
        "employee = Employee(\"Ali\", 50000, \"123456789\")\n",
        "\n",
        "# Access public variable\n",
        "print(\"Public Variable: \", employee.name)\n",
        "\n",
        "# Access protected variable#\n",
        "print(\"Portected Variable: \", employee._salary)\n",
        "\n",
        "# Attempt to access private variable (will raise AttributeError)\n",
        "# print(\"Private Variable: \", employee.__ssn)\n",
        "\n"
      ],
      "metadata": {
        "id": "wmP3smdINRN-"
      },
      "execution_count": null,
      "outputs": []
    },
    {
      "cell_type": "markdown",
      "source": [
        "**8. The super() Function**"
      ],
      "metadata": {
        "id": "SZJwPnxbRFKB"
      }
    },
    {
      "cell_type": "code",
      "source": [
        "# Create a class Person with a constructor that sets the name. Inherit a class Teacher from it, add a subject field, and use super() to call the base class constructor.\n",
        "# Derived meaning obtain something from (a specified source).\n",
        "\n",
        "# Base class\n",
        "class Person:\n",
        "\n",
        "  def __init__(self, name):\n",
        "    self.p_name = name\n",
        "\n",
        "\n",
        "# Derived class\n",
        "class Teacher(Person):\n",
        "  def __init__(self, name, subject):\n",
        "    super().__init__(name)   # Call the constructor of the base class\n",
        "    self.p_subject = subject\n",
        "\n",
        "teacher = Teacher(\"Sir Hamza Alvi\", \"Python\")\n",
        "print(f\"Teacher Name: {teacher.p_name}\")\n",
        "print(f\"Teacher Subject: {teacher.p_subject}\")\n",
        "\n"
      ],
      "metadata": {
        "id": "M9BoZc7yVrcj"
      },
      "execution_count": null,
      "outputs": []
    },
    {
      "cell_type": "markdown",
      "source": [
        "**9. Abstract Classes and Methods**"
      ],
      "metadata": {
        "id": "jaS_4uwPYkz3"
      }
    },
    {
      "cell_type": "code",
      "source": [
        "from abc import abstractmethod, ABC\n",
        "# Use the abc module to create an abstract class Shape with an abstract method area(). Inherit a class Rectangle that implements area().\n",
        "\n",
        "# Abstract class\n",
        "class Shape(ABC):\n",
        "\n",
        "  # Abstract Methon must be implemented in subclasses.\n",
        "  @abstractmethod\n",
        "  def area(self):\n",
        "    pass\n",
        "\n",
        "# Subclass must implement the abstract method\n",
        "class Rectangle(Shape):\n",
        "\n",
        "  def __init__(self, length, width):\n",
        "    self.length = length\n",
        "    self.width = width\n",
        "\n",
        "  def area(self):\n",
        "    return self.length * self.width\n",
        "\n",
        "rectangle = Rectangle(8, 2)\n",
        "print(f\"Area of Rectangle: {rectangle.area()}\")\n",
        "\n",
        "# Trying to instantiate Animal will raise an error\n",
        "# animal = Animal()  # ❌ TypeError\n",
        "\n"
      ],
      "metadata": {
        "id": "78upwZncYqfA"
      },
      "execution_count": null,
      "outputs": []
    },
    {
      "cell_type": "markdown",
      "source": [
        "**10. Instance Methods**"
      ],
      "metadata": {
        "id": "JaZ2EZptd42_"
      }
    },
    {
      "cell_type": "code",
      "source": [
        "from os import name\n",
        "# Create a class Dog with instance variables name and breed. Add an instance method bark() that prints a message including the dog's name.\n",
        "\n",
        "class Dog:\n",
        "\n",
        "  def __init__(self, name, breed):\n",
        "    self.dog_name = name    # instance variable\n",
        "    self.dog_breed = breed  # instance variable\n",
        "\n",
        "  # instance method = Defined with def and always has self as the first parameter.\n",
        "  def bark(self):\n",
        "    print(f\"{self.dog_name} says Woof!\")\n",
        "\n",
        "# Create an instance\n",
        "dog = Dog(\"Buddy\", \"Golden Retriever\")\n",
        "dog.bark()\n",
        "\n"
      ],
      "metadata": {
        "id": "V2EJ9whkd2-n"
      },
      "execution_count": null,
      "outputs": []
    },
    {
      "cell_type": "markdown",
      "source": [
        "**11. Class Methods**"
      ],
      "metadata": {
        "id": "rTa3HRwXgOEU"
      }
    },
    {
      "cell_type": "code",
      "source": [
        "# Create a class Book with a class variable total_books. Add a class method increment_book_count() to increase the count when a new book is added.\n",
        "\n",
        "class Book:\n",
        "\n",
        "  total_book = 0   # class variable\n",
        "\n",
        "  def __init__(self, title, author):\n",
        "    self.title = title\n",
        "    self.author = author\n",
        "    # increase the count using class method\n",
        "    Book.increment_book_count()\n",
        "\n",
        "  # increase the count\n",
        "  @classmethod\n",
        "  def increment_book_count(cls):\n",
        "    cls.total_book += 1\n",
        "\n",
        "book1 = Book(\"The Great Gatsby\", \"F. Scott Fitzgerald\")\n",
        "book2 = Book(\"To Kill a Mockingbird\", \"Harper Lee\")\n",
        "book3 = Book(\"1984\", \"George Orwell\")\n",
        "\n",
        "print(f\"Total Books: {Book.total_book}\")\n",
        "\n"
      ],
      "metadata": {
        "id": "s1KJR1IOge1C"
      },
      "execution_count": null,
      "outputs": []
    },
    {
      "cell_type": "markdown",
      "source": [
        "**12. Static Methods**"
      ],
      "metadata": {
        "id": "nZyuKw86pR1k"
      }
    },
    {
      "cell_type": "code",
      "source": [
        "# Create a class TemperatureConverter with a static method celsius_to_fahrenheit(c) that returns the Fahrenheit value.\n",
        "# It does not take self or cls as the first parameter.\n",
        "\n",
        "class TemperatureConverter:\n",
        "\n",
        "  @staticmethod\n",
        "  def celsius_to_fahrenheit(c):\n",
        "    return (c * 9/5) + 32\n",
        "\n",
        "celsius_temp = 25\n",
        "fahrenheit_temp = TemperatureConverter.celsius_to_fahrenheit(celsius_temp)\n",
        "print(f\"{celsius_temp} Celsius is equal to {fahrenheit_temp} Fahrenheit\")"
      ],
      "metadata": {
        "id": "uUANZLJlpUwV"
      },
      "execution_count": null,
      "outputs": []
    },
    {
      "cell_type": "markdown",
      "source": [
        "**13. Composition**"
      ],
      "metadata": {
        "id": "Floyk8-Jrmg6"
      }
    },
    {
      "cell_type": "code",
      "source": [
        "# Create a class Engine and a class Car. Use composition by passing an Engine object to the Car class during initialization. Access a method of the Engine class via the Car class.\n",
        "# \"Composition ka istemal tab karein jab kisi class ko doosri class ki functionality ka use karna ho, lekin us class ka hissa na banna ho (jo ke inheritance ki surat mein hota hai).\"\n",
        "\n",
        "class Engine:\n",
        "\n",
        "  def start(self):\n",
        "    print(\"Engine started.......\")\n",
        "\n",
        "class Car:\n",
        "\n",
        "  def __init__(self):\n",
        "    self.engine = Engine()  # Composition: Car HAS an Engine\n",
        "\n",
        "  def start(self):\n",
        "    print(\"Car is starting......\")\n",
        "    self.engine.start() # use engine start method\n",
        "\n",
        "car = Car()\n",
        "car.start()\n",
        "\n"
      ],
      "metadata": {
        "id": "NTZC-Hq3rpFU"
      },
      "execution_count": null,
      "outputs": []
    },
    {
      "cell_type": "markdown",
      "source": [
        "**14. Aggregation**"
      ],
      "metadata": {
        "id": "PHHcMGLnx8w2"
      }
    },
    {
      "cell_type": "code",
      "source": [
        "# Create a class Department and a class Employee. Use aggregation by having a Department object store a reference to an Employee object that exists independently of it.\n",
        "\n",
        "class Employee:\n",
        "\n",
        "  def __init__(self, emp_id, emp_name, emp_salary):\n",
        "    self.emp_id = emp_id\n",
        "    self.emp_name = emp_name\n",
        "    self.emp_salary = emp_salary\n",
        "\n",
        "  def display(self):\n",
        "    print(f\"Employee ID: {self.emp_id}\")\n",
        "    print(f\"Employee Name: {self.emp_name}\")\n",
        "    print(f\"Employee Salary: {self.emp_salary}\")\n",
        "\n",
        "class Department:\n",
        "  def __init__(self, dept_name):\n",
        "    self.dept_name = dept_name\n",
        "    self.employees = []  # Aggregation: List of Employee references\n",
        "\n",
        "  def add_employee(self, employee):\n",
        "    self.employees.append(employee)\n",
        "\n",
        "  def display_employees(self):\n",
        "    print(f\"Employees in {self.dept_name} Department:\")\n",
        "    for emp in self.employees:\n",
        "      emp.display()\n",
        "      print(\"-\" * 20)\n",
        "\n",
        "\n",
        "# Create employees independently\n",
        "employee1 = Employee(1, \"Ali\", 50000)\n",
        "employee2 = Employee(2, \"Ahmed\", 60000)\n",
        "\n",
        "# Create department\n",
        "department = Department(\"HR\")\n",
        "\n",
        "# Add employees to the department\n",
        "department.add_employee(employee1)\n",
        "department.add_employee(employee2)\n",
        "\n",
        "# Display department and its employees\n",
        "department.display_employees()\n",
        "\n"
      ],
      "metadata": {
        "id": "RBOVBjRzyB1s"
      },
      "execution_count": null,
      "outputs": []
    },
    {
      "cell_type": "markdown",
      "source": [
        "**15. Method Resolution Order (MRO) and Diamond Inheritance**"
      ],
      "metadata": {
        "id": "YUHKfQRwOryN"
      }
    },
    {
      "cell_type": "code",
      "source": [
        "# # Python uses the C3 Linearization algorithm to determine the MRO when multiple inheritance is involved.\n",
        "# Create four classes:\n",
        "# A with a method show(),\n",
        "# B and C that inherit from A and override show(),\n",
        "# D that inherits from both B and C.\n",
        "# Create an object of D and call show() to observe MRO.\n",
        "\n",
        "class A:\n",
        "  def show(self):\n",
        "    print(\"Method show() of class A\")\n",
        "\n",
        "class B(A):\n",
        "  def show(self):\n",
        "    print(\"Method show() of class B\")\n",
        "\n",
        "class C(A):\n",
        "  def show(self):\n",
        "    print(\"Method show() of class C\")\n",
        "\n",
        "# Python will look for methods in the following order (MRO): D → B → C → A → object\n",
        "class D(B, C):\n",
        "  pass\n",
        "\n",
        "# D doesn't have a show() method.It goes to B, finds show(), and uses that one.It does not go to C or A because the method has already been found.\n",
        "obj_d = D()\n",
        "obj_d.show()\n",
        "\n",
        "print(\"MRO:\", D.mro())\n"
      ],
      "metadata": {
        "id": "frS_wK9ROuTR"
      },
      "execution_count": null,
      "outputs": []
    },
    {
      "cell_type": "markdown",
      "source": [
        "**16. Function Decorators**"
      ],
      "metadata": {
        "id": "PDLxNppWSSWg"
      }
    },
    {
      "cell_type": "code",
      "source": [
        "# Write a decorator function log_function_call that prints \"Function is being called\" before a function executes. Apply it to a function say_hello().\n",
        "\n",
        "def log_function_call(func):\n",
        "  def wrapper(*args, **kwargs):\n",
        "    print(\"Function is being called\")\n",
        "    return func(*args, **kwargs)\n",
        "  return wrapper\n",
        "\n",
        "@log_function_call\n",
        "def say_hello():\n",
        "  print(\"Hello!\")\n",
        "\n",
        "say_hello()\n",
        "\n"
      ],
      "metadata": {
        "id": "amQRusppSVgx"
      },
      "execution_count": null,
      "outputs": []
    },
    {
      "cell_type": "markdown",
      "source": [
        "**17. Class Decorators**"
      ],
      "metadata": {
        "id": "WOpkCfYTW0H3"
      }
    },
    {
      "cell_type": "code",
      "source": [
        "# Create a class decorator add_greeting that modifies a class to add a greet() method returning \"Hello from Decorator!\". Apply it to a class Person.\n",
        "\n",
        "# # Class decorator that adds a greet() method\n",
        "def add_greeting(cls):\n",
        "  def greet(self):\n",
        "    return \"Hello from Decorator!\"\n",
        "  cls.greet = greet\n",
        "  return cls\n",
        "\n",
        "# Applying the decorator to the Person class\n",
        "@add_greeting\n",
        "class Person:\n",
        "  pass\n",
        "\n",
        "person = Person()\n",
        "print(person.greet())\n"
      ],
      "metadata": {
        "id": "NPLGc648W5Ps"
      },
      "execution_count": null,
      "outputs": []
    },
    {
      "cell_type": "markdown",
      "source": [
        "**18. Property Decorators: @property, @setter, and @deleter**"
      ],
      "metadata": {
        "id": "BwOOJI8HSzI5"
      }
    },
    {
      "cell_type": "code",
      "source": [
        "# Create a class Product with a private attribute _price. Use @property to get the price, @price.setter to update it, and @price.deleter to delete it.\n",
        "\n",
        "class Product:\n",
        "  def __init__(self, price):\n",
        "    self.__price = price\n",
        "  # @ property is a special Python function decorator that allows a method to be accessed like an attribute\n",
        "  @property\n",
        "  def price(self):\n",
        "    return self.__price\n",
        "\n",
        "  # set/update value\n",
        "  @price.setter\n",
        "  def price(self, new_price):\n",
        "    if new_price > 0:\n",
        "      self.__price = new_price\n",
        "    else:\n",
        "      raise ValueError(\"Price must be positive\")\n",
        "\n",
        "  # delete the value\n",
        "  @price.deleter\n",
        "  def price(self):\n",
        "    print(\"Deleting price...\")\n",
        "    del self.__price\n",
        "\n",
        "product = Product(100)\n",
        "print(\"Current Price:\", product.price)  #  Get price\n",
        "\n",
        "product.price = 150   # set new price\n",
        "print(\"Updated Price:\", product.price)\n",
        "\n",
        "del product.price    # delete price\n",
        "print(\"Price deleted.\")\n",
        "\n"
      ],
      "metadata": {
        "id": "v-ppGxMvS3rE"
      },
      "execution_count": null,
      "outputs": []
    },
    {
      "cell_type": "markdown",
      "source": [
        "**19. callable() and __call__()**"
      ],
      "metadata": {
        "id": "wt006yguYfg-"
      }
    },
    {
      "cell_type": "code",
      "source": [
        "# Create a class Multiplier with an __init__() to set a factor. Define a __call__() method that multiplies an input by the factor.\n",
        "# Test it with callable() and by calling the object like a function.\n",
        "\n",
        "class Multiplier:\n",
        "\n",
        "  def __init__(self, factor):\n",
        "    self.factor = factor\n",
        "\n",
        "  def __call__(self, input):\n",
        "    return self.factor * input\n",
        "\n",
        "# Create an instance of Multiplier with factor 5\n",
        "multiplier = Multiplier(5)\n",
        "\n",
        "# Test if the instance is callable\n",
        "print(callable(multiplier))  # True\n",
        "\n",
        "# Call the object like a function\n",
        "result = multiplier(10)\n",
        "print(result)\n"
      ],
      "metadata": {
        "id": "4NgKzrXVYj7J"
      },
      "execution_count": null,
      "outputs": []
    },
    {
      "cell_type": "markdown",
      "source": [
        "**20. Creating a Custom Exception**"
      ],
      "metadata": {
        "id": "f91KLv4gbOuG"
      }
    },
    {
      "cell_type": "code",
      "source": [
        "# Create a custom exception InvalidAgeError. Write a function check_age(age) that raises this exception if age < 18. Handle it with try...except.\n",
        "\n",
        "class InvalidAgeError(Exception):\n",
        "  def __init__(self, age):\n",
        "    self.age = age\n",
        "    self.message = f\"Invalid age: {age}. Age must be 18 or older.\"\n",
        "    super().__init__(self.message)\n",
        "\n",
        "\n",
        "# Function to check age\n",
        "def check_age(age):\n",
        "  if age < 18:\n",
        "    raise InvalidAgeError(age)\n",
        "\n",
        "try:\n",
        "  user_age = int(input(\"Enter your age: \"))\n",
        "  check_age(user_age)\n",
        "  print(\"Age is valid.\")\n",
        "except InvalidAgeError as e:\n",
        "  print(f\"InvalidAgeError caught: {e}\")\n",
        "except ValueError:\n",
        "  print(\"Invalid input. Please enter a valid integer for age.\")\n"
      ],
      "metadata": {
        "id": "M0rqv1NsbU0p"
      },
      "execution_count": null,
      "outputs": []
    },
    {
      "cell_type": "markdown",
      "source": [
        "**21. Make a Custom Class Iterable**"
      ],
      "metadata": {
        "id": "60lha73EdL0F"
      }
    },
    {
      "cell_type": "code",
      "source": [
        "# Create a class Countdown that takes a start number. Implement __iter__() and __next__() to make the object iterable in a for-loop, counting down to 0.\n",
        "\n",
        "class Countdown:\n",
        "  def __init__(self, start):\n",
        "    self.current = start\n",
        "\n",
        "  def __iter__(self):\n",
        "    return self\n",
        "\n",
        "  def __next__(self):\n",
        "    if self.current >= 0:\n",
        "      value = self.current\n",
        "      self.current -= 1\n",
        "      return value\n",
        "    else:\n",
        "      raise StopIteration\n",
        "\n",
        "countdown = Countdown(50)\n",
        "for num in countdown:\n",
        "  print(num)"
      ],
      "metadata": {
        "id": "iiZ1pnhCdVDd"
      },
      "execution_count": null,
      "outputs": []
    }
  ]
}